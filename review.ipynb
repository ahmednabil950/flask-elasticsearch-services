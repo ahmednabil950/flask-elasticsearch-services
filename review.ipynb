{
 "nbformat": 4,
 "nbformat_minor": 2,
 "metadata": {
  "language_info": {
   "name": "python",
   "codemirror_mode": {
    "name": "ipython",
    "version": 3
   }
  },
  "orig_nbformat": 2,
  "file_extension": ".py",
  "mimetype": "text/x-python",
  "name": "python",
  "npconvert_exporter": "python",
  "pygments_lexer": "ipython3",
  "version": 3
 },
 "cells": [
  {
   "cell_type": "code",
   "execution_count": 1,
   "metadata": {},
   "outputs": [],
   "source": [
    "from tools import *"
   ]
  },
  {
   "cell_type": "code",
   "execution_count": 2,
   "metadata": {},
   "outputs": [],
   "source": [
    "data = load_data()"
   ]
  },
  {
   "cell_type": "code",
   "execution_count": 14,
   "metadata": {},
   "outputs": [
    {
     "data": {
      "text/html": "<div>\n<style scoped>\n    .dataframe tbody tr th:only-of-type {\n        vertical-align: middle;\n    }\n\n    .dataframe tbody tr th {\n        vertical-align: top;\n    }\n\n    .dataframe thead th {\n        text-align: right;\n    }\n</style>\n<table border=\"1\" class=\"dataframe\">\n  <thead>\n    <tr style=\"text-align: right;\">\n      <th></th>\n      <th>address</th>\n      <th>categories</th>\n      <th>city</th>\n      <th>country</th>\n      <th>latitude</th>\n      <th>longitude</th>\n      <th>name</th>\n      <th>postalCode</th>\n      <th>province</th>\n      <th>reviews.date</th>\n      <th>reviews.dateAdded</th>\n      <th>reviews.doRecommend</th>\n      <th>reviews.id</th>\n      <th>reviews.rating</th>\n      <th>reviews.text</th>\n      <th>reviews.title</th>\n      <th>reviews.userCity</th>\n      <th>reviews.username</th>\n      <th>reviews.userProvince</th>\n    </tr>\n  </thead>\n  <tbody>\n    <tr>\n      <th>0</th>\n      <td>Riviera San Nicol 11/a</td>\n      <td>Hotels</td>\n      <td>Mableton</td>\n      <td>US</td>\n      <td>45.421611</td>\n      <td>12.376187</td>\n      <td>Hotel Russo Palace</td>\n      <td>30126</td>\n      <td>GA</td>\n      <td>2013-09-22T00:00:00Z</td>\n      <td>2016-10-24T00:00:25Z</td>\n      <td>NaN</td>\n      <td>NaN</td>\n      <td>4.0</td>\n      <td>Pleasant 10 min walk along the sea front to th...</td>\n      <td>Good location away from the crouds</td>\n      <td>NaN</td>\n      <td>Russ (kent)</td>\n      <td>NaN</td>\n    </tr>\n    <tr>\n      <th>1</th>\n      <td>Riviera San Nicol 11/a</td>\n      <td>Hotels</td>\n      <td>Mableton</td>\n      <td>US</td>\n      <td>45.421611</td>\n      <td>12.376187</td>\n      <td>Hotel Russo Palace</td>\n      <td>30126</td>\n      <td>GA</td>\n      <td>2015-04-03T00:00:00Z</td>\n      <td>2016-10-24T00:00:25Z</td>\n      <td>NaN</td>\n      <td>NaN</td>\n      <td>5.0</td>\n      <td>Really lovely hotel. Stayed on the very top fl...</td>\n      <td>Great hotel with Jacuzzi bath!</td>\n      <td>NaN</td>\n      <td>A Traveler</td>\n      <td>NaN</td>\n    </tr>\n    <tr>\n      <th>2</th>\n      <td>Riviera San Nicol 11/a</td>\n      <td>Hotels</td>\n      <td>Mableton</td>\n      <td>US</td>\n      <td>45.421611</td>\n      <td>12.376187</td>\n      <td>Hotel Russo Palace</td>\n      <td>30126</td>\n      <td>GA</td>\n      <td>2014-05-13T00:00:00Z</td>\n      <td>2016-10-24T00:00:25Z</td>\n      <td>NaN</td>\n      <td>NaN</td>\n      <td>5.0</td>\n      <td>Ett mycket bra hotell. Det som drog ner betyge...</td>\n      <td>Lugnt l��ge</td>\n      <td>NaN</td>\n      <td>Maud</td>\n      <td>NaN</td>\n    </tr>\n    <tr>\n      <th>3</th>\n      <td>Riviera San Nicol 11/a</td>\n      <td>Hotels</td>\n      <td>Mableton</td>\n      <td>US</td>\n      <td>45.421611</td>\n      <td>12.376187</td>\n      <td>Hotel Russo Palace</td>\n      <td>30126</td>\n      <td>GA</td>\n      <td>2013-10-27T00:00:00Z</td>\n      <td>2016-10-24T00:00:25Z</td>\n      <td>NaN</td>\n      <td>NaN</td>\n      <td>5.0</td>\n      <td>We stayed here for four nights in October. The...</td>\n      <td>Good location on the Lido.</td>\n      <td>NaN</td>\n      <td>Julie</td>\n      <td>NaN</td>\n    </tr>\n    <tr>\n      <th>4</th>\n      <td>Riviera San Nicol 11/a</td>\n      <td>Hotels</td>\n      <td>Mableton</td>\n      <td>US</td>\n      <td>45.421611</td>\n      <td>12.376187</td>\n      <td>Hotel Russo Palace</td>\n      <td>30126</td>\n      <td>GA</td>\n      <td>2015-03-05T00:00:00Z</td>\n      <td>2016-10-24T00:00:25Z</td>\n      <td>NaN</td>\n      <td>NaN</td>\n      <td>5.0</td>\n      <td>We stayed here for four nights in October. The...</td>\n      <td>������ ���������������</td>\n      <td>NaN</td>\n      <td>sungchul</td>\n      <td>NaN</td>\n    </tr>\n    <tr>\n      <th>5</th>\n      <td>Riviera San Nicol 11/a</td>\n      <td>Hotels</td>\n      <td>Mableton</td>\n      <td>US</td>\n      <td>45.421611</td>\n      <td>12.376187</td>\n      <td>Hotel Russo Palace</td>\n      <td>30126</td>\n      <td>GA</td>\n      <td>2015-04-05T00:00:00Z</td>\n      <td>2016-10-24T00:00:25Z</td>\n      <td>NaN</td>\n      <td>NaN</td>\n      <td>5.0</td>\n      <td>We loved staying on the island of Lido! You ne...</td>\n      <td>Very nice hotel</td>\n      <td>NaN</td>\n      <td>A Traveler</td>\n      <td>NaN</td>\n    </tr>\n    <tr>\n      <th>6</th>\n      <td>Riviera San Nicol 11/a</td>\n      <td>Hotels</td>\n      <td>Mableton</td>\n      <td>US</td>\n      <td>45.421611</td>\n      <td>12.376187</td>\n      <td>Hotel Russo Palace</td>\n      <td>30126</td>\n      <td>GA</td>\n      <td>2014-06-10T00:00:00Z</td>\n      <td>2016-10-24T00:00:25Z</td>\n      <td>NaN</td>\n      <td>NaN</td>\n      <td>4.0</td>\n      <td>Lovely view out onto the lagoon. Excellent vie...</td>\n      <td>Lovely view out onto the lagoon. Excellent view.</td>\n      <td>NaN</td>\n      <td>A Traveler</td>\n      <td>NaN</td>\n    </tr>\n    <tr>\n      <th>7</th>\n      <td>Riviera San Nicol 11/a</td>\n      <td>Hotels</td>\n      <td>Mableton</td>\n      <td>US</td>\n      <td>45.421611</td>\n      <td>12.376187</td>\n      <td>Hotel Russo Palace</td>\n      <td>30126</td>\n      <td>GA</td>\n      <td>2015-05-14T00:00:00Z</td>\n      <td>2016-10-24T00:00:25Z</td>\n      <td>NaN</td>\n      <td>NaN</td>\n      <td>4.0</td>\n      <td>ottimo soggiorno e ottima sistemazione nei gio...</td>\n      <td>Lovely view out onto the lagoon. Excellent view.</td>\n      <td>NaN</td>\n      <td>A Traveler</td>\n      <td>NaN</td>\n    </tr>\n    <tr>\n      <th>8</th>\n      <td>Riviera San Nicol 11/a</td>\n      <td>Hotels</td>\n      <td>Mableton</td>\n      <td>US</td>\n      <td>45.421611</td>\n      <td>12.376187</td>\n      <td>Hotel Russo Palace</td>\n      <td>30126</td>\n      <td>GA</td>\n      <td>2015-09-14T00:00:00Z</td>\n      <td>2016-10-24T00:00:25Z</td>\n      <td>NaN</td>\n      <td>NaN</td>\n      <td>3.0</td>\n      <td>Gnstiger Ausgangspunkt fr Venedig Besuche. Ruh...</td>\n      <td>G��nstige Lage</td>\n      <td>NaN</td>\n      <td>Doppeldecker</td>\n      <td>NaN</td>\n    </tr>\n    <tr>\n      <th>9</th>\n      <td>Riviera San Nicol 11/a</td>\n      <td>Hotels</td>\n      <td>Mableton</td>\n      <td>US</td>\n      <td>45.421611</td>\n      <td>12.376187</td>\n      <td>Hotel Russo Palace</td>\n      <td>30126</td>\n      <td>GA</td>\n      <td>2015-05-16T00:00:00Z</td>\n      <td>2016-10-24T00:00:25Z</td>\n      <td>NaN</td>\n      <td>NaN</td>\n      <td>4.0</td>\n      <td>Lidoen er perfekt til et par dages ro og afsla...</td>\n      <td>Ro og hygge</td>\n      <td>NaN</td>\n      <td>A Traveler</td>\n      <td>NaN</td>\n    </tr>\n  </tbody>\n</table>\n</div>",
      "text/plain": "                  address categories      city country   latitude  longitude  \\\n0  Riviera San Nicol 11/a     Hotels  Mableton      US  45.421611  12.376187   \n1  Riviera San Nicol 11/a     Hotels  Mableton      US  45.421611  12.376187   \n2  Riviera San Nicol 11/a     Hotels  Mableton      US  45.421611  12.376187   \n3  Riviera San Nicol 11/a     Hotels  Mableton      US  45.421611  12.376187   \n4  Riviera San Nicol 11/a     Hotels  Mableton      US  45.421611  12.376187   \n5  Riviera San Nicol 11/a     Hotels  Mableton      US  45.421611  12.376187   \n6  Riviera San Nicol 11/a     Hotels  Mableton      US  45.421611  12.376187   \n7  Riviera San Nicol 11/a     Hotels  Mableton      US  45.421611  12.376187   \n8  Riviera San Nicol 11/a     Hotels  Mableton      US  45.421611  12.376187   \n9  Riviera San Nicol 11/a     Hotels  Mableton      US  45.421611  12.376187   \n\n                 name postalCode province          reviews.date  \\\n0  Hotel Russo Palace      30126       GA  2013-09-22T00:00:00Z   \n1  Hotel Russo Palace      30126       GA  2015-04-03T00:00:00Z   \n2  Hotel Russo Palace      30126       GA  2014-05-13T00:00:00Z   \n3  Hotel Russo Palace      30126       GA  2013-10-27T00:00:00Z   \n4  Hotel Russo Palace      30126       GA  2015-03-05T00:00:00Z   \n5  Hotel Russo Palace      30126       GA  2015-04-05T00:00:00Z   \n6  Hotel Russo Palace      30126       GA  2014-06-10T00:00:00Z   \n7  Hotel Russo Palace      30126       GA  2015-05-14T00:00:00Z   \n8  Hotel Russo Palace      30126       GA  2015-09-14T00:00:00Z   \n9  Hotel Russo Palace      30126       GA  2015-05-16T00:00:00Z   \n\n      reviews.dateAdded  reviews.doRecommend  reviews.id  reviews.rating  \\\n0  2016-10-24T00:00:25Z                  NaN         NaN             4.0   \n1  2016-10-24T00:00:25Z                  NaN         NaN             5.0   \n2  2016-10-24T00:00:25Z                  NaN         NaN             5.0   \n3  2016-10-24T00:00:25Z                  NaN         NaN             5.0   \n4  2016-10-24T00:00:25Z                  NaN         NaN             5.0   \n5  2016-10-24T00:00:25Z                  NaN         NaN             5.0   \n6  2016-10-24T00:00:25Z                  NaN         NaN             4.0   \n7  2016-10-24T00:00:25Z                  NaN         NaN             4.0   \n8  2016-10-24T00:00:25Z                  NaN         NaN             3.0   \n9  2016-10-24T00:00:25Z                  NaN         NaN             4.0   \n\n                                        reviews.text  \\\n0  Pleasant 10 min walk along the sea front to th...   \n1  Really lovely hotel. Stayed on the very top fl...   \n2  Ett mycket bra hotell. Det som drog ner betyge...   \n3  We stayed here for four nights in October. The...   \n4  We stayed here for four nights in October. The...   \n5  We loved staying on the island of Lido! You ne...   \n6  Lovely view out onto the lagoon. Excellent vie...   \n7  ottimo soggiorno e ottima sistemazione nei gio...   \n8  Gnstiger Ausgangspunkt fr Venedig Besuche. Ruh...   \n9  Lidoen er perfekt til et par dages ro og afsla...   \n\n                                      reviews.title reviews.userCity  \\\n0                Good location away from the crouds              NaN   \n1                    Great hotel with Jacuzzi bath!              NaN   \n2                                       Lugnt l��ge              NaN   \n3                        Good location on the Lido.              NaN   \n4                            ������ ���������������              NaN   \n5                                   Very nice hotel              NaN   \n6  Lovely view out onto the lagoon. Excellent view.              NaN   \n7  Lovely view out onto the lagoon. Excellent view.              NaN   \n8                                    G��nstige Lage              NaN   \n9                                       Ro og hygge              NaN   \n\n  reviews.username reviews.userProvince  \n0      Russ (kent)                  NaN  \n1       A Traveler                  NaN  \n2             Maud                  NaN  \n3            Julie                  NaN  \n4         sungchul                  NaN  \n5       A Traveler                  NaN  \n6       A Traveler                  NaN  \n7       A Traveler                  NaN  \n8     Doppeldecker                  NaN  \n9       A Traveler                  NaN  "
     },
     "execution_count": 14,
     "metadata": {},
     "output_type": "execute_result"
    }
   ],
   "source": [
    "data.head(10)"
   ]
  },
  {
   "cell_type": "code",
   "execution_count": 15,
   "metadata": {},
   "outputs": [],
   "source": [
    "hotels = filter_by_column(data, 'categories', 'Hotels')"
   ]
  },
  {
   "cell_type": "code",
   "execution_count": 16,
   "metadata": {},
   "outputs": [
    {
     "data": {
      "text/plain": "21420"
     },
     "execution_count": 16,
     "metadata": {},
     "output_type": "execute_result"
    }
   ],
   "source": [
    "len(hotels)"
   ]
  },
  {
   "cell_type": "code",
   "execution_count": 17,
   "metadata": {},
   "outputs": [],
   "source": [
    "hotels = hotels.drop(columns=['reviews.userCity', 'reviews.id', 'reviews.userProvince', 'reviews.doRecommend'])"
   ]
  },
  {
   "cell_type": "code",
   "execution_count": 7,
   "metadata": {},
   "outputs": [
    {
     "data": {
      "text/html": "<div>\n<style scoped>\n    .dataframe tbody tr th:only-of-type {\n        vertical-align: middle;\n    }\n\n    .dataframe tbody tr th {\n        vertical-align: top;\n    }\n\n    .dataframe thead th {\n        text-align: right;\n    }\n</style>\n<table border=\"1\" class=\"dataframe\">\n  <thead>\n    <tr style=\"text-align: right;\">\n      <th></th>\n      <th>address</th>\n      <th>categories</th>\n      <th>city</th>\n      <th>country</th>\n      <th>latitude</th>\n      <th>longitude</th>\n      <th>name</th>\n      <th>postalCode</th>\n      <th>province</th>\n      <th>reviews.date</th>\n      <th>reviews.dateAdded</th>\n      <th>reviews.rating</th>\n      <th>reviews.text</th>\n      <th>reviews.title</th>\n      <th>reviews.username</th>\n    </tr>\n  </thead>\n  <tbody>\n    <tr>\n      <th>0</th>\n      <td>Riviera San Nicol 11/a</td>\n      <td>Hotels</td>\n      <td>Mableton</td>\n      <td>US</td>\n      <td>45.421611</td>\n      <td>12.376187</td>\n      <td>Hotel Russo Palace</td>\n      <td>30126</td>\n      <td>GA</td>\n      <td>2013-09-22T00:00:00Z</td>\n      <td>2016-10-24T00:00:25Z</td>\n      <td>4.0</td>\n      <td>Pleasant 10 min walk along the sea front to th...</td>\n      <td>Good location away from the crouds</td>\n      <td>Russ (kent)</td>\n    </tr>\n    <tr>\n      <th>1</th>\n      <td>Riviera San Nicol 11/a</td>\n      <td>Hotels</td>\n      <td>Mableton</td>\n      <td>US</td>\n      <td>45.421611</td>\n      <td>12.376187</td>\n      <td>Hotel Russo Palace</td>\n      <td>30126</td>\n      <td>GA</td>\n      <td>2015-04-03T00:00:00Z</td>\n      <td>2016-10-24T00:00:25Z</td>\n      <td>5.0</td>\n      <td>Really lovely hotel. Stayed on the very top fl...</td>\n      <td>Great hotel with Jacuzzi bath!</td>\n      <td>A Traveler</td>\n    </tr>\n    <tr>\n      <th>2</th>\n      <td>Riviera San Nicol 11/a</td>\n      <td>Hotels</td>\n      <td>Mableton</td>\n      <td>US</td>\n      <td>45.421611</td>\n      <td>12.376187</td>\n      <td>Hotel Russo Palace</td>\n      <td>30126</td>\n      <td>GA</td>\n      <td>2014-05-13T00:00:00Z</td>\n      <td>2016-10-24T00:00:25Z</td>\n      <td>5.0</td>\n      <td>Ett mycket bra hotell. Det som drog ner betyge...</td>\n      <td>Lugnt l��ge</td>\n      <td>Maud</td>\n    </tr>\n    <tr>\n      <th>3</th>\n      <td>Riviera San Nicol 11/a</td>\n      <td>Hotels</td>\n      <td>Mableton</td>\n      <td>US</td>\n      <td>45.421611</td>\n      <td>12.376187</td>\n      <td>Hotel Russo Palace</td>\n      <td>30126</td>\n      <td>GA</td>\n      <td>2013-10-27T00:00:00Z</td>\n      <td>2016-10-24T00:00:25Z</td>\n      <td>5.0</td>\n      <td>We stayed here for four nights in October. The...</td>\n      <td>Good location on the Lido.</td>\n      <td>Julie</td>\n    </tr>\n    <tr>\n      <th>4</th>\n      <td>Riviera San Nicol 11/a</td>\n      <td>Hotels</td>\n      <td>Mableton</td>\n      <td>US</td>\n      <td>45.421611</td>\n      <td>12.376187</td>\n      <td>Hotel Russo Palace</td>\n      <td>30126</td>\n      <td>GA</td>\n      <td>2015-03-05T00:00:00Z</td>\n      <td>2016-10-24T00:00:25Z</td>\n      <td>5.0</td>\n      <td>We stayed here for four nights in October. The...</td>\n      <td>������ ���������������</td>\n      <td>sungchul</td>\n    </tr>\n    <tr>\n      <th>5</th>\n      <td>Riviera San Nicol 11/a</td>\n      <td>Hotels</td>\n      <td>Mableton</td>\n      <td>US</td>\n      <td>45.421611</td>\n      <td>12.376187</td>\n      <td>Hotel Russo Palace</td>\n      <td>30126</td>\n      <td>GA</td>\n      <td>2015-04-05T00:00:00Z</td>\n      <td>2016-10-24T00:00:25Z</td>\n      <td>5.0</td>\n      <td>We loved staying on the island of Lido! You ne...</td>\n      <td>Very nice hotel</td>\n      <td>A Traveler</td>\n    </tr>\n    <tr>\n      <th>6</th>\n      <td>Riviera San Nicol 11/a</td>\n      <td>Hotels</td>\n      <td>Mableton</td>\n      <td>US</td>\n      <td>45.421611</td>\n      <td>12.376187</td>\n      <td>Hotel Russo Palace</td>\n      <td>30126</td>\n      <td>GA</td>\n      <td>2014-06-10T00:00:00Z</td>\n      <td>2016-10-24T00:00:25Z</td>\n      <td>4.0</td>\n      <td>Lovely view out onto the lagoon. Excellent vie...</td>\n      <td>Lovely view out onto the lagoon. Excellent view.</td>\n      <td>A Traveler</td>\n    </tr>\n    <tr>\n      <th>7</th>\n      <td>Riviera San Nicol 11/a</td>\n      <td>Hotels</td>\n      <td>Mableton</td>\n      <td>US</td>\n      <td>45.421611</td>\n      <td>12.376187</td>\n      <td>Hotel Russo Palace</td>\n      <td>30126</td>\n      <td>GA</td>\n      <td>2015-05-14T00:00:00Z</td>\n      <td>2016-10-24T00:00:25Z</td>\n      <td>4.0</td>\n      <td>ottimo soggiorno e ottima sistemazione nei gio...</td>\n      <td>Lovely view out onto the lagoon. Excellent view.</td>\n      <td>A Traveler</td>\n    </tr>\n    <tr>\n      <th>8</th>\n      <td>Riviera San Nicol 11/a</td>\n      <td>Hotels</td>\n      <td>Mableton</td>\n      <td>US</td>\n      <td>45.421611</td>\n      <td>12.376187</td>\n      <td>Hotel Russo Palace</td>\n      <td>30126</td>\n      <td>GA</td>\n      <td>2015-09-14T00:00:00Z</td>\n      <td>2016-10-24T00:00:25Z</td>\n      <td>3.0</td>\n      <td>Gnstiger Ausgangspunkt fr Venedig Besuche. Ruh...</td>\n      <td>G��nstige Lage</td>\n      <td>Doppeldecker</td>\n    </tr>\n    <tr>\n      <th>9</th>\n      <td>Riviera San Nicol 11/a</td>\n      <td>Hotels</td>\n      <td>Mableton</td>\n      <td>US</td>\n      <td>45.421611</td>\n      <td>12.376187</td>\n      <td>Hotel Russo Palace</td>\n      <td>30126</td>\n      <td>GA</td>\n      <td>2015-05-16T00:00:00Z</td>\n      <td>2016-10-24T00:00:25Z</td>\n      <td>4.0</td>\n      <td>Lidoen er perfekt til et par dages ro og afsla...</td>\n      <td>Ro og hygge</td>\n      <td>A Traveler</td>\n    </tr>\n    <tr>\n      <th>10</th>\n      <td>Riviera San Nicol 11/a</td>\n      <td>Hotels</td>\n      <td>Mableton</td>\n      <td>US</td>\n      <td>45.421611</td>\n      <td>12.376187</td>\n      <td>Hotel Russo Palace</td>\n      <td>30126</td>\n      <td>GA</td>\n      <td>2015-04-30T00:00:00Z</td>\n      <td>2016-10-24T00:00:25Z</td>\n      <td>4.0</td>\n      <td>Accueil chaleureux, en franais Changement du l...</td>\n      <td>Tr��s bon h��tel calme et agr��able.</td>\n      <td>Couple</td>\n    </tr>\n    <tr>\n      <th>11</th>\n      <td>Riviera San Nicol 11/a</td>\n      <td>Hotels</td>\n      <td>Mableton</td>\n      <td>US</td>\n      <td>45.421611</td>\n      <td>12.376187</td>\n      <td>Hotel Russo Palace</td>\n      <td>30126</td>\n      <td>GA</td>\n      <td>2015-08-02T00:00:00Z</td>\n      <td>2016-10-24T00:00:25Z</td>\n      <td>3.0</td>\n      <td>It was ok hotel is nice from in and out but ro...</td>\n      <td>It was ok hotel is nice from in and out but room</td>\n      <td>ahsas</td>\n    </tr>\n    <tr>\n      <th>12</th>\n      <td>Riviera San Nicol 11/a</td>\n      <td>Hotels</td>\n      <td>Mableton</td>\n      <td>US</td>\n      <td>45.421611</td>\n      <td>12.376187</td>\n      <td>Hotel Russo Palace</td>\n      <td>30126</td>\n      <td>GA</td>\n      <td>2016-05-24T00:00:00Z</td>\n      <td>2016-10-24T00:00:25Z</td>\n      <td>4.0</td>\n      <td>Klasse Frhstck, freundliches und aufmerksames ...</td>\n      <td>Sehr angenehmes Hotel !</td>\n      <td>ahsas</td>\n    </tr>\n    <tr>\n      <th>13</th>\n      <td>Riviera San Nicol 11/a</td>\n      <td>Hotels</td>\n      <td>Mableton</td>\n      <td>US</td>\n      <td>45.421611</td>\n      <td>12.376187</td>\n      <td>Hotel Russo Palace</td>\n      <td>30126</td>\n      <td>GA</td>\n      <td>2016-06-07T00:00:00Z</td>\n      <td>2016-10-24T00:00:25Z</td>\n      <td>4.0</td>\n      <td>Bardzo sympatyczna obsuga, klimat hotelu. wiet...</td>\n      <td>Tip top</td>\n      <td>A Traveler</td>\n    </tr>\n    <tr>\n      <th>14</th>\n      <td>Riviera San Nicol 11/a</td>\n      <td>Hotels</td>\n      <td>Mableton</td>\n      <td>US</td>\n      <td>45.421611</td>\n      <td>12.376187</td>\n      <td>Hotel Russo Palace</td>\n      <td>30126</td>\n      <td>GA</td>\n      <td>2015-09-09T00:00:00Z</td>\n      <td>2016-10-24T00:00:25Z</td>\n      <td>4.0</td>\n      <td>Bra o lugnt lge. Stor terrass. Nra till den hr...</td>\n      <td>Lugnet p�� Lido</td>\n      <td>Elisabet</td>\n    </tr>\n  </tbody>\n</table>\n</div>",
      "text/plain": "                   address categories      city country   latitude  longitude  \\\n0   Riviera San Nicol 11/a     Hotels  Mableton      US  45.421611  12.376187   \n1   Riviera San Nicol 11/a     Hotels  Mableton      US  45.421611  12.376187   \n2   Riviera San Nicol 11/a     Hotels  Mableton      US  45.421611  12.376187   \n3   Riviera San Nicol 11/a     Hotels  Mableton      US  45.421611  12.376187   \n4   Riviera San Nicol 11/a     Hotels  Mableton      US  45.421611  12.376187   \n5   Riviera San Nicol 11/a     Hotels  Mableton      US  45.421611  12.376187   \n6   Riviera San Nicol 11/a     Hotels  Mableton      US  45.421611  12.376187   \n7   Riviera San Nicol 11/a     Hotels  Mableton      US  45.421611  12.376187   \n8   Riviera San Nicol 11/a     Hotels  Mableton      US  45.421611  12.376187   \n9   Riviera San Nicol 11/a     Hotels  Mableton      US  45.421611  12.376187   \n10  Riviera San Nicol 11/a     Hotels  Mableton      US  45.421611  12.376187   \n11  Riviera San Nicol 11/a     Hotels  Mableton      US  45.421611  12.376187   \n12  Riviera San Nicol 11/a     Hotels  Mableton      US  45.421611  12.376187   \n13  Riviera San Nicol 11/a     Hotels  Mableton      US  45.421611  12.376187   \n14  Riviera San Nicol 11/a     Hotels  Mableton      US  45.421611  12.376187   \n\n                  name postalCode province          reviews.date  \\\n0   Hotel Russo Palace      30126       GA  2013-09-22T00:00:00Z   \n1   Hotel Russo Palace      30126       GA  2015-04-03T00:00:00Z   \n2   Hotel Russo Palace      30126       GA  2014-05-13T00:00:00Z   \n3   Hotel Russo Palace      30126       GA  2013-10-27T00:00:00Z   \n4   Hotel Russo Palace      30126       GA  2015-03-05T00:00:00Z   \n5   Hotel Russo Palace      30126       GA  2015-04-05T00:00:00Z   \n6   Hotel Russo Palace      30126       GA  2014-06-10T00:00:00Z   \n7   Hotel Russo Palace      30126       GA  2015-05-14T00:00:00Z   \n8   Hotel Russo Palace      30126       GA  2015-09-14T00:00:00Z   \n9   Hotel Russo Palace      30126       GA  2015-05-16T00:00:00Z   \n10  Hotel Russo Palace      30126       GA  2015-04-30T00:00:00Z   \n11  Hotel Russo Palace      30126       GA  2015-08-02T00:00:00Z   \n12  Hotel Russo Palace      30126       GA  2016-05-24T00:00:00Z   \n13  Hotel Russo Palace      30126       GA  2016-06-07T00:00:00Z   \n14  Hotel Russo Palace      30126       GA  2015-09-09T00:00:00Z   \n\n       reviews.dateAdded  reviews.rating  \\\n0   2016-10-24T00:00:25Z             4.0   \n1   2016-10-24T00:00:25Z             5.0   \n2   2016-10-24T00:00:25Z             5.0   \n3   2016-10-24T00:00:25Z             5.0   \n4   2016-10-24T00:00:25Z             5.0   \n5   2016-10-24T00:00:25Z             5.0   \n6   2016-10-24T00:00:25Z             4.0   \n7   2016-10-24T00:00:25Z             4.0   \n8   2016-10-24T00:00:25Z             3.0   \n9   2016-10-24T00:00:25Z             4.0   \n10  2016-10-24T00:00:25Z             4.0   \n11  2016-10-24T00:00:25Z             3.0   \n12  2016-10-24T00:00:25Z             4.0   \n13  2016-10-24T00:00:25Z             4.0   \n14  2016-10-24T00:00:25Z             4.0   \n\n                                         reviews.text  \\\n0   Pleasant 10 min walk along the sea front to th...   \n1   Really lovely hotel. Stayed on the very top fl...   \n2   Ett mycket bra hotell. Det som drog ner betyge...   \n3   We stayed here for four nights in October. The...   \n4   We stayed here for four nights in October. The...   \n5   We loved staying on the island of Lido! You ne...   \n6   Lovely view out onto the lagoon. Excellent vie...   \n7   ottimo soggiorno e ottima sistemazione nei gio...   \n8   Gnstiger Ausgangspunkt fr Venedig Besuche. Ruh...   \n9   Lidoen er perfekt til et par dages ro og afsla...   \n10  Accueil chaleureux, en franais Changement du l...   \n11  It was ok hotel is nice from in and out but ro...   \n12  Klasse Frhstck, freundliches und aufmerksames ...   \n13  Bardzo sympatyczna obsuga, klimat hotelu. wiet...   \n14  Bra o lugnt lge. Stor terrass. Nra till den hr...   \n\n                                       reviews.title reviews.username  \n0                 Good location away from the crouds      Russ (kent)  \n1                     Great hotel with Jacuzzi bath!       A Traveler  \n2                                        Lugnt l��ge             Maud  \n3                         Good location on the Lido.            Julie  \n4                             ������ ���������������         sungchul  \n5                                    Very nice hotel       A Traveler  \n6   Lovely view out onto the lagoon. Excellent view.       A Traveler  \n7   Lovely view out onto the lagoon. Excellent view.       A Traveler  \n8                                     G��nstige Lage     Doppeldecker  \n9                                        Ro og hygge       A Traveler  \n10              Tr��s bon h��tel calme et agr��able.           Couple  \n11  It was ok hotel is nice from in and out but room            ahsas  \n12                           Sehr angenehmes Hotel !            ahsas  \n13                                           Tip top       A Traveler  \n14                                   Lugnet p�� Lido         Elisabet  "
     },
     "execution_count": 7,
     "metadata": {},
     "output_type": "execute_result"
    }
   ],
   "source": [
    "hotels = hotels[hotels.name == 'Hotel Russo Palace'].copy()\n",
    "hotels.head(15)"
   ]
  },
  {
   "cell_type": "code",
   "execution_count": 8,
   "metadata": {},
   "outputs": [],
   "source": [
    "df_groups = []\n",
    "for name, df in hotels.groupby('name'):\n",
    "    df_groups.append({name: df.T.to_dict()})"
   ]
  },
  {
   "cell_type": "code",
   "execution_count": 9,
   "metadata": {},
   "outputs": [],
   "source": [
    "import json\n",
    "with open('data.json', 'w') as f:\n",
    "    for frame in df_groups:\n",
    "        json.dump(frame, f)"
   ]
  },
  {
   "cell_type": "code",
   "execution_count": 18,
   "metadata": {},
   "outputs": [],
   "source": [
    "len([(name, group) for (name, group) in hotels.groupby('name')])"
   ]
  },
  {
   "cell_type": "code",
   "execution_count": null,
   "metadata": {},
   "outputs": [],
   "source": []
  }
 ]
}